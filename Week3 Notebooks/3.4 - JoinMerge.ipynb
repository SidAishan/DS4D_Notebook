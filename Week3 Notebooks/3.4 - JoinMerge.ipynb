{
 "cells": [
  {
   "cell_type": "markdown",
   "metadata": {},
   "source": [
    "# Merge DataFrames\n",
    "\n",
    "This little example will show you howo to merge to data sets that comes in two different files. \n",
    "\n",
    "First, we need to import the modules `csv`, and `pandas` (which we want to abbreviate `pd`)."
   ]
  },
  {
   "cell_type": "code",
   "execution_count": 95,
   "metadata": {},
   "outputs": [],
   "source": [
    "import csv, pandas as pd"
   ]
  },
  {
   "cell_type": "markdown",
   "metadata": {},
   "source": [
    "Next, we read the file `people1.csv` into a dataframe using pandas build in csv reader."
   ]
  },
  {
   "cell_type": "code",
   "execution_count": 96,
   "metadata": {},
   "outputs": [],
   "source": [
    "df_people1 = pd.read_csv('people1.csv')"
   ]
  },
  {
   "cell_type": "markdown",
   "metadata": {},
   "source": [
    "Next, we read the file `people2.csv`."
   ]
  },
  {
   "cell_type": "code",
   "execution_count": 97,
   "metadata": {},
   "outputs": [],
   "source": [
    "df_people2 = pd.read_csv('people2.csv')"
   ]
  },
  {
   "cell_type": "markdown",
   "metadata": {},
   "source": [
    "Now, we want to concatenate both datasets, as both have the same format and similar data. Pandas allows to simply append one data frame to another through the `contcat` function: \n",
    "\n",
    "`pd.concat([DATA_FRAME_1, DATA_FRAME_2],ignore_index=True)`. Replace the two variables `DATA_FRAME_1` and `DATA_FRAME_2` by the data frames you want to concatenate. `ignore_index=True` tells python to create new indices for the resulting larger dataframe. This is useful as sometimes you might already have row indices in the two dataframes you want to combine; however, both frames start counting at 0 and when combining them, you cannot have two indices with the same value. You should set `ignore_index=False` if you are 100% sure that you have different indices in each file and want to keep them like that.\n",
    "\n",
    "More informations on merges can be found here: https://pandas.pydata.org/pandas-docs/stable/merging.html.\n",
    " \n",
    "Concat the two dataframes for `person1.csv` and `person2.csv`:"
   ]
  },
  {
   "cell_type": "code",
   "execution_count": 98,
   "metadata": {},
   "outputs": [
    {
     "data": {
      "text/plain": "    Name   Height   Shoe Size\n0  Devin      175         9.0\n1   Pela      178         8.5\n2    Jer      182        11.0\n3  Kevin      150         9.0\n4  Jenny      145         6.0\n5     Jo      170         6.0",
      "text/html": "<div>\n<style scoped>\n    .dataframe tbody tr th:only-of-type {\n        vertical-align: middle;\n    }\n\n    .dataframe tbody tr th {\n        vertical-align: top;\n    }\n\n    .dataframe thead th {\n        text-align: right;\n    }\n</style>\n<table border=\"1\" class=\"dataframe\">\n  <thead>\n    <tr style=\"text-align: right;\">\n      <th></th>\n      <th>Name</th>\n      <th>Height</th>\n      <th>Shoe Size</th>\n    </tr>\n  </thead>\n  <tbody>\n    <tr>\n      <th>0</th>\n      <td>Devin</td>\n      <td>175</td>\n      <td>9.0</td>\n    </tr>\n    <tr>\n      <th>1</th>\n      <td>Pela</td>\n      <td>178</td>\n      <td>8.5</td>\n    </tr>\n    <tr>\n      <th>2</th>\n      <td>Jer</td>\n      <td>182</td>\n      <td>11.0</td>\n    </tr>\n    <tr>\n      <th>3</th>\n      <td>Kevin</td>\n      <td>150</td>\n      <td>9.0</td>\n    </tr>\n    <tr>\n      <th>4</th>\n      <td>Jenny</td>\n      <td>145</td>\n      <td>6.0</td>\n    </tr>\n    <tr>\n      <th>5</th>\n      <td>Jo</td>\n      <td>170</td>\n      <td>6.0</td>\n    </tr>\n  </tbody>\n</table>\n</div>"
     },
     "execution_count": 98,
     "metadata": {},
     "output_type": "execute_result"
    }
   ],
   "source": [
    "df_people = pd.concat([df_people1,df_people2], ignore_index=True)\n",
    "df_people"
   ]
  },
  {
   "cell_type": "markdown",
   "metadata": {},
   "source": [
    "# Loading JSON files\n",
    "\n",
    "Besids CSV, Pandas can also load JSON file using:\n",
    "\n",
    "`pd.read_json(FILE_NAME, orient=INDEX_FIELD)`\n",
    "\n",
    "This function loads a file with the name `FILE_NAME` and sets the attribute `INDEX_FIELD` as the row label. \n",
    "\n",
    "Load `people.json` into a variable called `favourites`, using the attribute field `index` as labels:"
   ]
  },
  {
   "cell_type": "code",
   "execution_count": 99,
   "metadata": {
    "scrolled": true
   },
   "outputs": [
    {
     "data": {
      "text/plain": "              favourite book   favourite tv favourite food\nkevin     Catcher in the Rye  Downton Abbey            NaN\njenny  To Kill a Mockingbird   Downton Abey            NaN\njo              Oliver Twist     Doctor Who            NaN\ndevin                    NaN   Donton Abbey            NaN\nPela                     NaN     Doctor Who      Ice Cream",
      "text/html": "<div>\n<style scoped>\n    .dataframe tbody tr th:only-of-type {\n        vertical-align: middle;\n    }\n\n    .dataframe tbody tr th {\n        vertical-align: top;\n    }\n\n    .dataframe thead th {\n        text-align: right;\n    }\n</style>\n<table border=\"1\" class=\"dataframe\">\n  <thead>\n    <tr style=\"text-align: right;\">\n      <th></th>\n      <th>favourite book</th>\n      <th>favourite tv</th>\n      <th>favourite food</th>\n    </tr>\n  </thead>\n  <tbody>\n    <tr>\n      <th>kevin</th>\n      <td>Catcher in the Rye</td>\n      <td>Downton Abbey</td>\n      <td>NaN</td>\n    </tr>\n    <tr>\n      <th>jenny</th>\n      <td>To Kill a Mockingbird</td>\n      <td>Downton Abey</td>\n      <td>NaN</td>\n    </tr>\n    <tr>\n      <th>jo</th>\n      <td>Oliver Twist</td>\n      <td>Doctor Who</td>\n      <td>NaN</td>\n    </tr>\n    <tr>\n      <th>devin</th>\n      <td>NaN</td>\n      <td>Donton Abbey</td>\n      <td>NaN</td>\n    </tr>\n    <tr>\n      <th>Pela</th>\n      <td>NaN</td>\n      <td>Doctor Who</td>\n      <td>Ice Cream</td>\n    </tr>\n  </tbody>\n</table>\n</div>"
     },
     "execution_count": 99,
     "metadata": {},
     "output_type": "execute_result"
    }
   ],
   "source": [
    "df_favorite = pd.read_json('people.json', orient='index')\n",
    "df_favorite"
   ]
  },
  {
   "cell_type": "markdown",
   "metadata": {},
   "source": [
    "# Joining DataFrame\n",
    "\n",
    "Similar to merges, joins aggregate two data frames. However, other than concatenating the rows, joins add columns to rows. That's the simple explanation. The truth is a litte more complicated. In fact, join needs labels to match rows in one dataframe to rows in another dataframe set because you can't assume the rows in both dataframes are in the same order.\n",
    "\n",
    "Thus, before we can join two dataframes, we need to be sure there is a label fiel in each dataframe with the exact same labels that can be used for matching. \n",
    "\n",
    "Looking at our data frames: the one contining the `person1.csv` plus `person2.csv` and the one from `person.json`, some names are uppper and some are lower case. Let's fix that first. \n",
    "\n",
    "Can you set all names in your combined dataframe for `person1.csv` and `person2.csv` to lowercase? You can use the `.map(str.lower)` function on the selection that returns you the `Name` column of the respective dataframe."
   ]
  },
  {
   "cell_type": "code",
   "execution_count": 100,
   "metadata": {},
   "outputs": [
    {
     "data": {
      "text/plain": "    Name   Height   Shoe Size\n0  devin      175         9.0\n1   pela      178         8.5\n2    jer      182        11.0\n3  kevin      150         9.0\n4  jenny      145         6.0\n5     jo      170         6.0",
      "text/html": "<div>\n<style scoped>\n    .dataframe tbody tr th:only-of-type {\n        vertical-align: middle;\n    }\n\n    .dataframe tbody tr th {\n        vertical-align: top;\n    }\n\n    .dataframe thead th {\n        text-align: right;\n    }\n</style>\n<table border=\"1\" class=\"dataframe\">\n  <thead>\n    <tr style=\"text-align: right;\">\n      <th></th>\n      <th>Name</th>\n      <th>Height</th>\n      <th>Shoe Size</th>\n    </tr>\n  </thead>\n  <tbody>\n    <tr>\n      <th>0</th>\n      <td>devin</td>\n      <td>175</td>\n      <td>9.0</td>\n    </tr>\n    <tr>\n      <th>1</th>\n      <td>pela</td>\n      <td>178</td>\n      <td>8.5</td>\n    </tr>\n    <tr>\n      <th>2</th>\n      <td>jer</td>\n      <td>182</td>\n      <td>11.0</td>\n    </tr>\n    <tr>\n      <th>3</th>\n      <td>kevin</td>\n      <td>150</td>\n      <td>9.0</td>\n    </tr>\n    <tr>\n      <th>4</th>\n      <td>jenny</td>\n      <td>145</td>\n      <td>6.0</td>\n    </tr>\n    <tr>\n      <th>5</th>\n      <td>jo</td>\n      <td>170</td>\n      <td>6.0</td>\n    </tr>\n  </tbody>\n</table>\n</div>"
     },
     "execution_count": 100,
     "metadata": {},
     "output_type": "execute_result"
    }
   ],
   "source": [
    "import numpy as np\n",
    "import pandas as pd\n",
    "\n",
    "\n",
    "df_people['Name'] = df_people['Name'].map(str.lower)\n",
    "df_people\n"
   ]
  },
  {
   "cell_type": "code",
   "execution_count": 100,
   "outputs": [],
   "source": [],
   "metadata": {
    "collapsed": false,
    "pycharm": {
     "name": "#%%\n"
    }
   }
  },
  {
   "cell_type": "markdown",
   "metadata": {},
   "source": [
    "Now, do the same for the `favourite` DataFrame. In this DataFrame, you can access the label field though `favourites.index`:"
   ]
  },
  {
   "cell_type": "code",
   "execution_count": 101,
   "metadata": {},
   "outputs": [
    {
     "data": {
      "text/plain": "              favourite book   favourite tv favourite food\nkevin     Catcher in the Rye  Downton Abbey            NaN\njenny  To Kill a Mockingbird   Downton Abey            NaN\njo              Oliver Twist     Doctor Who            NaN\ndevin                    NaN   Donton Abbey            NaN\npela                     NaN     Doctor Who      Ice Cream",
      "text/html": "<div>\n<style scoped>\n    .dataframe tbody tr th:only-of-type {\n        vertical-align: middle;\n    }\n\n    .dataframe tbody tr th {\n        vertical-align: top;\n    }\n\n    .dataframe thead th {\n        text-align: right;\n    }\n</style>\n<table border=\"1\" class=\"dataframe\">\n  <thead>\n    <tr style=\"text-align: right;\">\n      <th></th>\n      <th>favourite book</th>\n      <th>favourite tv</th>\n      <th>favourite food</th>\n    </tr>\n  </thead>\n  <tbody>\n    <tr>\n      <th>kevin</th>\n      <td>Catcher in the Rye</td>\n      <td>Downton Abbey</td>\n      <td>NaN</td>\n    </tr>\n    <tr>\n      <th>jenny</th>\n      <td>To Kill a Mockingbird</td>\n      <td>Downton Abey</td>\n      <td>NaN</td>\n    </tr>\n    <tr>\n      <th>jo</th>\n      <td>Oliver Twist</td>\n      <td>Doctor Who</td>\n      <td>NaN</td>\n    </tr>\n    <tr>\n      <th>devin</th>\n      <td>NaN</td>\n      <td>Donton Abbey</td>\n      <td>NaN</td>\n    </tr>\n    <tr>\n      <th>pela</th>\n      <td>NaN</td>\n      <td>Doctor Who</td>\n      <td>Ice Cream</td>\n    </tr>\n  </tbody>\n</table>\n</div>"
     },
     "execution_count": 101,
     "metadata": {},
     "output_type": "execute_result"
    }
   ],
   "source": [
    "df_favorite.index = df_favorite.index.map(str.lower)\n",
    "df_favorite"
   ]
  },
  {
   "cell_type": "markdown",
   "metadata": {},
   "source": [
    "Now, we can complete our join, using again the `merge` function: \n",
    "\n",
    "`merge(DATA_FRAME_1, DATA_FRAME_2, left_on=LABEL_1, right_on=True)`.\n",
    "\n",
    "`DATA_FRAME_1` and `DATA_FRAME_2` are the two dataframes to join. `left_on` tells the function the column name of the `DATA_FRAME_1` that contains the labels. `right_on=True` tells the function that the labels in `DATA_FRAME_2` are in the index field. This is because our two dataframes have a slighly different internal structure. However, the `merge` function allows for merging a wide set of data frame formats.\n",
    "\n",
    "Supplied with these parameters, pandas will merge the two dataframes so that each person has now 5 columns. \n",
    "    \n",
    "More information here: https://pandas.pydata.org/pandas-docs/stable/merging.html#database-style-dataframe-joining-merging\n",
    "\n",
    "Can you merge all the dataframes (`person1.csv` and `person2.csv` with `favourite`?)"
   ]
  },
  {
   "cell_type": "code",
   "execution_count": 109,
   "outputs": [
    {
     "data": {
      "text/plain": "              favourite book   favourite tv favourite food\nkevin     Catcher in the Rye  Downton Abbey            NaN\njenny  To Kill a Mockingbird   Downton Abey            NaN\njo              Oliver Twist     Doctor Who            NaN\ndevin                    NaN   Donton Abbey            NaN\npela                     NaN     Doctor Who      Ice Cream",
      "text/html": "<div>\n<style scoped>\n    .dataframe tbody tr th:only-of-type {\n        vertical-align: middle;\n    }\n\n    .dataframe tbody tr th {\n        vertical-align: top;\n    }\n\n    .dataframe thead th {\n        text-align: right;\n    }\n</style>\n<table border=\"1\" class=\"dataframe\">\n  <thead>\n    <tr style=\"text-align: right;\">\n      <th></th>\n      <th>favourite book</th>\n      <th>favourite tv</th>\n      <th>favourite food</th>\n    </tr>\n  </thead>\n  <tbody>\n    <tr>\n      <th>kevin</th>\n      <td>Catcher in the Rye</td>\n      <td>Downton Abbey</td>\n      <td>NaN</td>\n    </tr>\n    <tr>\n      <th>jenny</th>\n      <td>To Kill a Mockingbird</td>\n      <td>Downton Abey</td>\n      <td>NaN</td>\n    </tr>\n    <tr>\n      <th>jo</th>\n      <td>Oliver Twist</td>\n      <td>Doctor Who</td>\n      <td>NaN</td>\n    </tr>\n    <tr>\n      <th>devin</th>\n      <td>NaN</td>\n      <td>Donton Abbey</td>\n      <td>NaN</td>\n    </tr>\n    <tr>\n      <th>pela</th>\n      <td>NaN</td>\n      <td>Doctor Who</td>\n      <td>Ice Cream</td>\n    </tr>\n  </tbody>\n</table>\n</div>"
     },
     "execution_count": 109,
     "metadata": {},
     "output_type": "execute_result"
    }
   ],
   "source": [
    "df_people\n",
    "df_favorite"
   ],
   "metadata": {
    "collapsed": false,
    "pycharm": {
     "name": "#%%\n"
    }
   }
  },
  {
   "cell_type": "code",
   "execution_count": 102,
   "metadata": {
    "scrolled": true
   },
   "outputs": [
    {
     "data": {
      "text/plain": "    Name   Height   Shoe Size         favourite book   favourite tv  \\\n0  devin      175         9.0                    NaN   Donton Abbey   \n1   pela      178         8.5                    NaN     Doctor Who   \n3  kevin      150         9.0     Catcher in the Rye  Downton Abbey   \n4  jenny      145         6.0  To Kill a Mockingbird   Downton Abey   \n5     jo      170         6.0           Oliver Twist     Doctor Who   \n\n  favourite food  \n0            NaN  \n1      Ice Cream  \n3            NaN  \n4            NaN  \n5            NaN  ",
      "text/html": "<div>\n<style scoped>\n    .dataframe tbody tr th:only-of-type {\n        vertical-align: middle;\n    }\n\n    .dataframe tbody tr th {\n        vertical-align: top;\n    }\n\n    .dataframe thead th {\n        text-align: right;\n    }\n</style>\n<table border=\"1\" class=\"dataframe\">\n  <thead>\n    <tr style=\"text-align: right;\">\n      <th></th>\n      <th>Name</th>\n      <th>Height</th>\n      <th>Shoe Size</th>\n      <th>favourite book</th>\n      <th>favourite tv</th>\n      <th>favourite food</th>\n    </tr>\n  </thead>\n  <tbody>\n    <tr>\n      <th>0</th>\n      <td>devin</td>\n      <td>175</td>\n      <td>9.0</td>\n      <td>NaN</td>\n      <td>Donton Abbey</td>\n      <td>NaN</td>\n    </tr>\n    <tr>\n      <th>1</th>\n      <td>pela</td>\n      <td>178</td>\n      <td>8.5</td>\n      <td>NaN</td>\n      <td>Doctor Who</td>\n      <td>Ice Cream</td>\n    </tr>\n    <tr>\n      <th>3</th>\n      <td>kevin</td>\n      <td>150</td>\n      <td>9.0</td>\n      <td>Catcher in the Rye</td>\n      <td>Downton Abbey</td>\n      <td>NaN</td>\n    </tr>\n    <tr>\n      <th>4</th>\n      <td>jenny</td>\n      <td>145</td>\n      <td>6.0</td>\n      <td>To Kill a Mockingbird</td>\n      <td>Downton Abey</td>\n      <td>NaN</td>\n    </tr>\n    <tr>\n      <th>5</th>\n      <td>jo</td>\n      <td>170</td>\n      <td>6.0</td>\n      <td>Oliver Twist</td>\n      <td>Doctor Who</td>\n      <td>NaN</td>\n    </tr>\n  </tbody>\n</table>\n</div>"
     },
     "execution_count": 102,
     "metadata": {},
     "output_type": "execute_result"
    }
   ],
   "source": [
    "pd_total = pd.merge(df_people, df_favorite, left_on='Name', right_index=True)\n",
    "\n",
    "pd_total"
   ]
  },
  {
   "cell_type": "markdown",
   "metadata": {},
   "source": [
    "Given this dataframe, can you find which is the most popular tv show?"
   ]
  },
  {
   "cell_type": "code",
   "execution_count": 103,
   "metadata": {
    "scrolled": false,
    "pycharm": {
     "name": "#%%\n"
    }
   },
   "outputs": [
    {
     "data": {
      "text/plain": "'Doctor Who'"
     },
     "execution_count": 103,
     "metadata": {},
     "output_type": "execute_result"
    }
   ],
   "source": [
    "from collections import Counter\n",
    "res = Counter(pd_total['favourite tv'])\n",
    "res.most_common(1)[0][0]"
   ]
  },
  {
   "cell_type": "code",
   "execution_count": 104,
   "outputs": [
    {
     "data": {
      "text/plain": "'c'"
     },
     "execution_count": 104,
     "metadata": {},
     "output_type": "execute_result"
    }
   ],
   "source": [
    "test_list1 = ('a','b','c')\n",
    "test_list2 = ['x','y','z']\n",
    "test_tuple = tuple(test_list2)\n",
    "# test_list2 可以修改，tuple() 函数不是改变值的类型，而是返回改变类型后的值，原值不会被改变\n",
    "test_list2[2] = '这是修改的'\n",
    "#下面这行报错，元组不可修改\n",
    "test_list1[2]"
   ],
   "metadata": {
    "collapsed": false,
    "pycharm": {
     "name": "#%%\n"
    }
   }
  },
  {
   "cell_type": "code",
   "execution_count": 104,
   "outputs": [],
   "source": [],
   "metadata": {
    "collapsed": false,
    "pycharm": {
     "name": "#%%\n"
    }
   }
  }
 ],
 "metadata": {
  "kernelspec": {
   "display_name": "Python 3",
   "language": "python",
   "name": "python3"
  },
  "language_info": {
   "codemirror_mode": {
    "name": "ipython",
    "version": 3
   },
   "file_extension": ".py",
   "mimetype": "text/x-python",
   "name": "python",
   "nbconvert_exporter": "python",
   "pygments_lexer": "ipython3",
   "version": "3.7.7"
  }
 },
 "nbformat": 4,
 "nbformat_minor": 1
}