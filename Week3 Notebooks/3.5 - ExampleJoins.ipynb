{
 "cells": [
  {
   "cell_type": "code",
   "execution_count": 1,
   "metadata": {},
   "outputs": [],
   "source": [
    "import pandas as pd"
   ]
  },
  {
   "cell_type": "code",
   "execution_count": 2,
   "metadata": {},
   "outputs": [
    {
     "data": {
      "text/plain": "    Id  Age   Eyes   Hair  Name\n0  id1   35   Blue  Black   Jon\n1  id2   67   Blue  Black  Jack\n2  id3   12   Grey  Brown   Jim\n3  id4   24  Brown   Pink   Jen",
      "text/html": "<div>\n<style scoped>\n    .dataframe tbody tr th:only-of-type {\n        vertical-align: middle;\n    }\n\n    .dataframe tbody tr th {\n        vertical-align: top;\n    }\n\n    .dataframe thead th {\n        text-align: right;\n    }\n</style>\n<table border=\"1\" class=\"dataframe\">\n  <thead>\n    <tr style=\"text-align: right;\">\n      <th></th>\n      <th>Id</th>\n      <th>Age</th>\n      <th>Eyes</th>\n      <th>Hair</th>\n      <th>Name</th>\n    </tr>\n  </thead>\n  <tbody>\n    <tr>\n      <th>0</th>\n      <td>id1</td>\n      <td>35</td>\n      <td>Blue</td>\n      <td>Black</td>\n      <td>Jon</td>\n    </tr>\n    <tr>\n      <th>1</th>\n      <td>id2</td>\n      <td>67</td>\n      <td>Blue</td>\n      <td>Black</td>\n      <td>Jack</td>\n    </tr>\n    <tr>\n      <th>2</th>\n      <td>id3</td>\n      <td>12</td>\n      <td>Grey</td>\n      <td>Brown</td>\n      <td>Jim</td>\n    </tr>\n    <tr>\n      <th>3</th>\n      <td>id4</td>\n      <td>24</td>\n      <td>Brown</td>\n      <td>Pink</td>\n      <td>Jen</td>\n    </tr>\n  </tbody>\n</table>\n</div>"
     },
     "execution_count": 2,
     "metadata": {},
     "output_type": "execute_result"
    }
   ],
   "source": [
    "df1 = pd.DataFrame({'Id' : [\"id1\",\"id2\",\"id3\",\"id4\"],\n",
    "                    'Age': [35, 67, 12, 24],\n",
    "                    'Eyes': ['Blue', 'Blue', 'Grey', 'Brown'],\n",
    "                    'Hair': ['Black', 'Black', 'Brown', 'Pink'],\n",
    "                    'Name': ['Jon', 'Jack', 'Jim', 'Jen']\n",
    "                     })\n",
    "df1.set_index(\"Id\")\n",
    "df1"
   ]
  },
  {
   "cell_type": "code",
   "execution_count": 3,
   "metadata": {},
   "outputs": [
    {
     "data": {
      "text/plain": "    Id  Age    Eyes    Hair Name\n0  id5   11  Yellow   Green   Jo\n1  id6   23   Slate  Purple  Jun",
      "text/html": "<div>\n<style scoped>\n    .dataframe tbody tr th:only-of-type {\n        vertical-align: middle;\n    }\n\n    .dataframe tbody tr th {\n        vertical-align: top;\n    }\n\n    .dataframe thead th {\n        text-align: right;\n    }\n</style>\n<table border=\"1\" class=\"dataframe\">\n  <thead>\n    <tr style=\"text-align: right;\">\n      <th></th>\n      <th>Id</th>\n      <th>Age</th>\n      <th>Eyes</th>\n      <th>Hair</th>\n      <th>Name</th>\n    </tr>\n  </thead>\n  <tbody>\n    <tr>\n      <th>0</th>\n      <td>id5</td>\n      <td>11</td>\n      <td>Yellow</td>\n      <td>Green</td>\n      <td>Jo</td>\n    </tr>\n    <tr>\n      <th>1</th>\n      <td>id6</td>\n      <td>23</td>\n      <td>Slate</td>\n      <td>Purple</td>\n      <td>Jun</td>\n    </tr>\n  </tbody>\n</table>\n</div>"
     },
     "execution_count": 3,
     "metadata": {},
     "output_type": "execute_result"
    }
   ],
   "source": [
    "df2 = pd.DataFrame({'Id' : [\"id5\",\"id6\"],\n",
    "                    'Age': [11, 23],\n",
    "                    'Eyes': ['Yellow', 'Slate'],\n",
    "                    'Hair': ['Green', 'Purple'],\n",
    "                    'Name': ['Jo', 'Jun']})\n",
    "df2"
   ]
  },
  {
   "cell_type": "code",
   "execution_count": 7,
   "metadata": {},
   "outputs": [
    {
     "data": {
      "text/plain": "    Id  Age    Eyes    Hair  Name\n0  id1   35    Blue   Black   Jon\n1  id2   67    Blue   Black  Jack\n2  id3   12    Grey   Brown   Jim\n3  id4   24   Brown    Pink   Jen\n4  id5   11  Yellow   Green    Jo\n5  id6   23   Slate  Purple   Jun",
      "text/html": "<div>\n<style scoped>\n    .dataframe tbody tr th:only-of-type {\n        vertical-align: middle;\n    }\n\n    .dataframe tbody tr th {\n        vertical-align: top;\n    }\n\n    .dataframe thead th {\n        text-align: right;\n    }\n</style>\n<table border=\"1\" class=\"dataframe\">\n  <thead>\n    <tr style=\"text-align: right;\">\n      <th></th>\n      <th>Id</th>\n      <th>Age</th>\n      <th>Eyes</th>\n      <th>Hair</th>\n      <th>Name</th>\n    </tr>\n  </thead>\n  <tbody>\n    <tr>\n      <th>0</th>\n      <td>id1</td>\n      <td>35</td>\n      <td>Blue</td>\n      <td>Black</td>\n      <td>Jon</td>\n    </tr>\n    <tr>\n      <th>1</th>\n      <td>id2</td>\n      <td>67</td>\n      <td>Blue</td>\n      <td>Black</td>\n      <td>Jack</td>\n    </tr>\n    <tr>\n      <th>2</th>\n      <td>id3</td>\n      <td>12</td>\n      <td>Grey</td>\n      <td>Brown</td>\n      <td>Jim</td>\n    </tr>\n    <tr>\n      <th>3</th>\n      <td>id4</td>\n      <td>24</td>\n      <td>Brown</td>\n      <td>Pink</td>\n      <td>Jen</td>\n    </tr>\n    <tr>\n      <th>4</th>\n      <td>id5</td>\n      <td>11</td>\n      <td>Yellow</td>\n      <td>Green</td>\n      <td>Jo</td>\n    </tr>\n    <tr>\n      <th>5</th>\n      <td>id6</td>\n      <td>23</td>\n      <td>Slate</td>\n      <td>Purple</td>\n      <td>Jun</td>\n    </tr>\n  </tbody>\n</table>\n</div>"
     },
     "execution_count": 7,
     "metadata": {},
     "output_type": "execute_result"
    }
   ],
   "source": [
    "pd.concat([df1,df2],ignore_index=True)\n",
    "# axis=0(default) index concat"
   ]
  },
  {
   "cell_type": "code",
   "execution_count": 8,
   "metadata": {},
   "outputs": [
    {
     "data": {
      "text/plain": "      FavFood NickName\n0       Chips    Jonny\n1      Cheese   Jackie\n2    Broccoli    Jimmy\n3  Candyfloss    Jenny",
      "text/html": "<div>\n<style scoped>\n    .dataframe tbody tr th:only-of-type {\n        vertical-align: middle;\n    }\n\n    .dataframe tbody tr th {\n        vertical-align: top;\n    }\n\n    .dataframe thead th {\n        text-align: right;\n    }\n</style>\n<table border=\"1\" class=\"dataframe\">\n  <thead>\n    <tr style=\"text-align: right;\">\n      <th></th>\n      <th>FavFood</th>\n      <th>NickName</th>\n    </tr>\n  </thead>\n  <tbody>\n    <tr>\n      <th>0</th>\n      <td>Chips</td>\n      <td>Jonny</td>\n    </tr>\n    <tr>\n      <th>1</th>\n      <td>Cheese</td>\n      <td>Jackie</td>\n    </tr>\n    <tr>\n      <th>2</th>\n      <td>Broccoli</td>\n      <td>Jimmy</td>\n    </tr>\n    <tr>\n      <th>3</th>\n      <td>Candyfloss</td>\n      <td>Jenny</td>\n    </tr>\n  </tbody>\n</table>\n</div>"
     },
     "execution_count": 8,
     "metadata": {},
     "output_type": "execute_result"
    }
   ],
   "source": [
    "df3 = pd.DataFrame({\n",
    "                    'FavFood': ['Chips', 'Cheese', 'Broccoli', 'Candyfloss'],\n",
    "                    'NickName': ['Jonny', 'Jackie', 'Jimmy', 'Jenny']\n",
    "                     })\n",
    "df3"
   ]
  },
  {
   "cell_type": "code",
   "execution_count": 9,
   "metadata": {},
   "outputs": [
    {
     "data": {
      "text/plain": "    Id  Age   Eyes   Hair  Name     FavFood NickName\n0  id1   35   Blue  Black   Jon       Chips    Jonny\n1  id2   67   Blue  Black  Jack      Cheese   Jackie\n2  id3   12   Grey  Brown   Jim    Broccoli    Jimmy\n3  id4   24  Brown   Pink   Jen  Candyfloss    Jenny",
      "text/html": "<div>\n<style scoped>\n    .dataframe tbody tr th:only-of-type {\n        vertical-align: middle;\n    }\n\n    .dataframe tbody tr th {\n        vertical-align: top;\n    }\n\n    .dataframe thead th {\n        text-align: right;\n    }\n</style>\n<table border=\"1\" class=\"dataframe\">\n  <thead>\n    <tr style=\"text-align: right;\">\n      <th></th>\n      <th>Id</th>\n      <th>Age</th>\n      <th>Eyes</th>\n      <th>Hair</th>\n      <th>Name</th>\n      <th>FavFood</th>\n      <th>NickName</th>\n    </tr>\n  </thead>\n  <tbody>\n    <tr>\n      <th>0</th>\n      <td>id1</td>\n      <td>35</td>\n      <td>Blue</td>\n      <td>Black</td>\n      <td>Jon</td>\n      <td>Chips</td>\n      <td>Jonny</td>\n    </tr>\n    <tr>\n      <th>1</th>\n      <td>id2</td>\n      <td>67</td>\n      <td>Blue</td>\n      <td>Black</td>\n      <td>Jack</td>\n      <td>Cheese</td>\n      <td>Jackie</td>\n    </tr>\n    <tr>\n      <th>2</th>\n      <td>id3</td>\n      <td>12</td>\n      <td>Grey</td>\n      <td>Brown</td>\n      <td>Jim</td>\n      <td>Broccoli</td>\n      <td>Jimmy</td>\n    </tr>\n    <tr>\n      <th>3</th>\n      <td>id4</td>\n      <td>24</td>\n      <td>Brown</td>\n      <td>Pink</td>\n      <td>Jen</td>\n      <td>Candyfloss</td>\n      <td>Jenny</td>\n    </tr>\n  </tbody>\n</table>\n</div>"
     },
     "execution_count": 9,
     "metadata": {},
     "output_type": "execute_result"
    }
   ],
   "source": [
    "pd.concat([df1,df3],axis=1)\n",
    "#axis = 1 column concat"
   ]
  },
  {
   "cell_type": "code",
   "execution_count": 11,
   "metadata": {},
   "outputs": [
    {
     "data": {
      "text/plain": "      FavFood NickName\n0  Candyfloss    Jenny\n1       Chips    Jonny\n2     Bananas      Ray",
      "text/html": "<div>\n<style scoped>\n    .dataframe tbody tr th:only-of-type {\n        vertical-align: middle;\n    }\n\n    .dataframe tbody tr th {\n        vertical-align: top;\n    }\n\n    .dataframe thead th {\n        text-align: right;\n    }\n</style>\n<table border=\"1\" class=\"dataframe\">\n  <thead>\n    <tr style=\"text-align: right;\">\n      <th></th>\n      <th>FavFood</th>\n      <th>NickName</th>\n    </tr>\n  </thead>\n  <tbody>\n    <tr>\n      <th>0</th>\n      <td>Candyfloss</td>\n      <td>Jenny</td>\n    </tr>\n    <tr>\n      <th>1</th>\n      <td>Chips</td>\n      <td>Jonny</td>\n    </tr>\n    <tr>\n      <th>2</th>\n      <td>Bananas</td>\n      <td>Ray</td>\n    </tr>\n  </tbody>\n</table>\n</div>"
     },
     "execution_count": 11,
     "metadata": {},
     "output_type": "execute_result"
    }
   ],
   "source": [
    "df4 = pd.DataFrame({\n",
    "                    'FavFood': ['Candyfloss', 'Chips', 'Bananas', ],\n",
    "                    'NickName': ['Jenny', 'Jonny', 'Ray']\n",
    "                     })\n",
    "df4"
   ]
  },
  {
   "cell_type": "code",
   "execution_count": 12,
   "metadata": {},
   "outputs": [
    {
     "data": {
      "text/plain": "  Ident     FavFood NickName\n0   id4  Candyfloss    Jenny\n1   id1       Chips    Jonny\n2  id12     Bananas      Ray",
      "text/html": "<div>\n<style scoped>\n    .dataframe tbody tr th:only-of-type {\n        vertical-align: middle;\n    }\n\n    .dataframe tbody tr th {\n        vertical-align: top;\n    }\n\n    .dataframe thead th {\n        text-align: right;\n    }\n</style>\n<table border=\"1\" class=\"dataframe\">\n  <thead>\n    <tr style=\"text-align: right;\">\n      <th></th>\n      <th>Ident</th>\n      <th>FavFood</th>\n      <th>NickName</th>\n    </tr>\n  </thead>\n  <tbody>\n    <tr>\n      <th>0</th>\n      <td>id4</td>\n      <td>Candyfloss</td>\n      <td>Jenny</td>\n    </tr>\n    <tr>\n      <th>1</th>\n      <td>id1</td>\n      <td>Chips</td>\n      <td>Jonny</td>\n    </tr>\n    <tr>\n      <th>2</th>\n      <td>id12</td>\n      <td>Bananas</td>\n      <td>Ray</td>\n    </tr>\n  </tbody>\n</table>\n</div>"
     },
     "execution_count": 12,
     "metadata": {},
     "output_type": "execute_result"
    }
   ],
   "source": [
    "df4b = pd.DataFrame({'Ident': [\"id4\",\"id1\",\"id12\"],\n",
    "                    'FavFood': ['Candyfloss', 'Chips', 'Bananas', ],\n",
    "                    'NickName': ['Jenny', 'Jonny', 'Ray']\n",
    "                     })\n",
    "df4b"
   ]
  },
  {
   "cell_type": "code",
   "execution_count": 14,
   "metadata": {},
   "outputs": [
    {
     "data": {
      "text/plain": "    Id  Age   Eyes   Hair Name Ident     FavFood NickName\n0  id1   35   Blue  Black  Jon   id1       Chips    Jonny\n1  id4   24  Brown   Pink  Jen   id4  Candyfloss    Jenny",
      "text/html": "<div>\n<style scoped>\n    .dataframe tbody tr th:only-of-type {\n        vertical-align: middle;\n    }\n\n    .dataframe tbody tr th {\n        vertical-align: top;\n    }\n\n    .dataframe thead th {\n        text-align: right;\n    }\n</style>\n<table border=\"1\" class=\"dataframe\">\n  <thead>\n    <tr style=\"text-align: right;\">\n      <th></th>\n      <th>Id</th>\n      <th>Age</th>\n      <th>Eyes</th>\n      <th>Hair</th>\n      <th>Name</th>\n      <th>Ident</th>\n      <th>FavFood</th>\n      <th>NickName</th>\n    </tr>\n  </thead>\n  <tbody>\n    <tr>\n      <th>0</th>\n      <td>id1</td>\n      <td>35</td>\n      <td>Blue</td>\n      <td>Black</td>\n      <td>Jon</td>\n      <td>id1</td>\n      <td>Chips</td>\n      <td>Jonny</td>\n    </tr>\n    <tr>\n      <th>1</th>\n      <td>id4</td>\n      <td>24</td>\n      <td>Brown</td>\n      <td>Pink</td>\n      <td>Jen</td>\n      <td>id4</td>\n      <td>Candyfloss</td>\n      <td>Jenny</td>\n    </tr>\n  </tbody>\n</table>\n</div>"
     },
     "execution_count": 14,
     "metadata": {},
     "output_type": "execute_result"
    }
   ],
   "source": [
    "pd.merge(df1,df4b,left_on=\"Id\",right_on=\"Ident\")"
   ]
  },
  {
   "cell_type": "code",
   "execution_count": 15,
   "metadata": {},
   "outputs": [
    {
     "data": {
      "text/plain": "    Id   Age   Eyes   Hair  Name Ident     FavFood NickName\n0  id1  35.0   Blue  Black   Jon   id1       Chips    Jonny\n1  id2  67.0   Blue  Black  Jack   NaN         NaN      NaN\n2  id3  12.0   Grey  Brown   Jim   NaN         NaN      NaN\n3  id4  24.0  Brown   Pink   Jen   id4  Candyfloss    Jenny\n4  NaN   NaN    NaN    NaN   NaN  id12     Bananas      Ray",
      "text/html": "<div>\n<style scoped>\n    .dataframe tbody tr th:only-of-type {\n        vertical-align: middle;\n    }\n\n    .dataframe tbody tr th {\n        vertical-align: top;\n    }\n\n    .dataframe thead th {\n        text-align: right;\n    }\n</style>\n<table border=\"1\" class=\"dataframe\">\n  <thead>\n    <tr style=\"text-align: right;\">\n      <th></th>\n      <th>Id</th>\n      <th>Age</th>\n      <th>Eyes</th>\n      <th>Hair</th>\n      <th>Name</th>\n      <th>Ident</th>\n      <th>FavFood</th>\n      <th>NickName</th>\n    </tr>\n  </thead>\n  <tbody>\n    <tr>\n      <th>0</th>\n      <td>id1</td>\n      <td>35.0</td>\n      <td>Blue</td>\n      <td>Black</td>\n      <td>Jon</td>\n      <td>id1</td>\n      <td>Chips</td>\n      <td>Jonny</td>\n    </tr>\n    <tr>\n      <th>1</th>\n      <td>id2</td>\n      <td>67.0</td>\n      <td>Blue</td>\n      <td>Black</td>\n      <td>Jack</td>\n      <td>NaN</td>\n      <td>NaN</td>\n      <td>NaN</td>\n    </tr>\n    <tr>\n      <th>2</th>\n      <td>id3</td>\n      <td>12.0</td>\n      <td>Grey</td>\n      <td>Brown</td>\n      <td>Jim</td>\n      <td>NaN</td>\n      <td>NaN</td>\n      <td>NaN</td>\n    </tr>\n    <tr>\n      <th>3</th>\n      <td>id4</td>\n      <td>24.0</td>\n      <td>Brown</td>\n      <td>Pink</td>\n      <td>Jen</td>\n      <td>id4</td>\n      <td>Candyfloss</td>\n      <td>Jenny</td>\n    </tr>\n    <tr>\n      <th>4</th>\n      <td>NaN</td>\n      <td>NaN</td>\n      <td>NaN</td>\n      <td>NaN</td>\n      <td>NaN</td>\n      <td>id12</td>\n      <td>Bananas</td>\n      <td>Ray</td>\n    </tr>\n  </tbody>\n</table>\n</div>"
     },
     "execution_count": 15,
     "metadata": {},
     "output_type": "execute_result"
    }
   ],
   "source": [
    "pd.merge(df1,df4b,left_on=\"Id\",right_on=\"Ident\",how=\"outer\")"
   ]
  },
  {
   "cell_type": "code",
   "execution_count": null,
   "metadata": {},
   "outputs": [],
   "source": []
  }
 ],
 "metadata": {
  "kernelspec": {
   "display_name": "Python 3",
   "language": "python",
   "name": "python3"
  },
  "language_info": {
   "codemirror_mode": {
    "name": "ipython",
    "version": 3
   },
   "file_extension": ".py",
   "mimetype": "text/x-python",
   "name": "python",
   "nbconvert_exporter": "python",
   "pygments_lexer": "ipython3",
   "version": "3.7.7"
  }
 },
 "nbformat": 4,
 "nbformat_minor": 1
}