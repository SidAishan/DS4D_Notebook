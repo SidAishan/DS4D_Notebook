{
 "cells": [
  {
   "cell_type": "markdown",
   "metadata": {
    "cell_tags": []
   },
   "source": [
    "## Loops and Conditionals"
   ]
  },
  {
   "cell_type": "markdown",
   "metadata": {
    "cell_tags": [
     "objectives"
    ]
   },
   "source": [
    "We started working with loops in the Introduction notebook. They are one of the most powerful ideas in programming. Here's Mickey Mouse, one of the worlds first programmers realising that  if you can make a computer (or a broomstick) do something once, it can do it a million times - sometimes with unpredictable results: https://vimeo.com/7878564\n",
    "\n",
    "It's good to develop a mindset where if you find yourself doing something more that once, you think \"how can I put this in a loop\" - even if you're just doing it 2 or 3 times, there's a good chance that later on, you'll end up doing it lots of times.\n",
    "\n",
    "#### Objectives\n",
    "\n",
    "*   Explain what a for loop does.\n",
    "*   Correctly write for loops to repeat simple calculations.\n",
    "*   Trace changes to a loop variable as the loop runs.\n",
    "*   Trace changes to other variables as they are updated by a for loop.\n",
    "*   Explain what a list is.\n",
    "*   Create and index lists of simple values.\n",
    "*   Use a library function to get a list of filenames that match a simple wildcard pattern.\n",
    "*   Use a for loop to process multiple files."
   ]
  },
  {
   "cell_type": "markdown",
   "metadata": {
    "cell_tags": []
   },
   "source": [
    "### For Loops"
   ]
  },
  {
   "cell_type": "markdown",
   "metadata": {
    "cell_tags": []
   },
   "source": [
    "Suppose we want to print each character in the word \"lead\" on a line of its own.\n",
    "One way is to use four `print` statements:"
   ]
  },
  {
   "cell_type": "code",
   "execution_count": 1,
   "metadata": {},
   "outputs": [
    {
     "name": "stdout",
     "output_type": "stream",
     "text": [
      "l\n",
      "e\n",
      "a\n",
      "d\n"
     ]
    }
   ],
   "source": [
    "print('l')\n",
    "print('e')\n",
    "print('a')\n",
    "print('d')\n"
   ]
  },
  {
   "cell_type": "markdown",
   "metadata": {},
   "source": [
    "If we wanted to be able to print any word, we would want to put this into a function (more on those soon!), which might look like this:"
   ]
  },
  {
   "cell_type": "code",
   "execution_count": 2,
   "metadata": {
    "cell_tags": []
   },
   "outputs": [
    {
     "name": "stdout",
     "output_type": "stream",
     "text": [
      "l\n",
      "e\n",
      "a\n",
      "d\n"
     ]
    }
   ],
   "source": [
    "# Create a function (more on this later!)\n",
    "def print_characters(element):\n",
    "    print( element[0] )\n",
    "    print( element[1] )\n",
    "    print( element[2])\n",
    "    print( element[3])\n",
    "\n",
    "#Now call your function with a string\n",
    "print_characters('lead')"
   ]
  },
  {
   "cell_type": "markdown",
   "metadata": {
    "cell_tags": []
   },
   "source": [
    "This is a terrible idea! There are two reasons:\n",
    "\n",
    "1.  It doesn't scale:\n",
    "    if we want to print the characters in a string that's hundreds of letters long,\n",
    "    we'd have to add a hundred print statements, which would be confusing, and we would be better off just typing them in.\n",
    "\n",
    "1.  It's fragile:\n",
    "    if we give it a longer string,\n",
    "    it only prints part of the data,\n",
    "    and if we give it a shorter one,\n",
    "    it produces an error because we're asking for characters that don't exist."
   ]
  },
  {
   "cell_type": "code",
   "execution_count": 3,
   "metadata": {},
   "outputs": [
    {
     "name": "stdout",
     "output_type": "stream",
     "text": [
      "t\n",
      "i\n",
      "n\n"
     ]
    },
    {
     "ename": "IndexError",
     "evalue": "string index out of range",
     "output_type": "error",
     "traceback": [
      "\u001B[0;31m---------------------------------------------------------------------------\u001B[0m",
      "\u001B[0;31mIndexError\u001B[0m                                Traceback (most recent call last)",
      "\u001B[0;32m<ipython-input-3-2a6dcea72a31>\u001B[0m in \u001B[0;36m<module>\u001B[0;34m\u001B[0m\n\u001B[0;32m----> 1\u001B[0;31m \u001B[0mprint_characters\u001B[0m\u001B[0;34m(\u001B[0m\u001B[0;34m'tin'\u001B[0m\u001B[0;34m)\u001B[0m\u001B[0;34m\u001B[0m\u001B[0;34m\u001B[0m\u001B[0m\n\u001B[0m\u001B[1;32m      2\u001B[0m \u001B[0;34m\u001B[0m\u001B[0m\n",
      "\u001B[0;32m<ipython-input-2-91384a283b27>\u001B[0m in \u001B[0;36mprint_characters\u001B[0;34m(element)\u001B[0m\n\u001B[1;32m      4\u001B[0m     \u001B[0mprint\u001B[0m\u001B[0;34m(\u001B[0m \u001B[0melement\u001B[0m\u001B[0;34m[\u001B[0m\u001B[0;36m1\u001B[0m\u001B[0;34m]\u001B[0m \u001B[0;34m)\u001B[0m\u001B[0;34m\u001B[0m\u001B[0;34m\u001B[0m\u001B[0m\n\u001B[1;32m      5\u001B[0m     \u001B[0mprint\u001B[0m\u001B[0;34m(\u001B[0m \u001B[0melement\u001B[0m\u001B[0;34m[\u001B[0m\u001B[0;36m2\u001B[0m\u001B[0;34m]\u001B[0m\u001B[0;34m)\u001B[0m\u001B[0;34m\u001B[0m\u001B[0;34m\u001B[0m\u001B[0m\n\u001B[0;32m----> 6\u001B[0;31m     \u001B[0mprint\u001B[0m\u001B[0;34m(\u001B[0m \u001B[0melement\u001B[0m\u001B[0;34m[\u001B[0m\u001B[0;36m3\u001B[0m\u001B[0;34m]\u001B[0m\u001B[0;34m)\u001B[0m\u001B[0;34m\u001B[0m\u001B[0;34m\u001B[0m\u001B[0m\n\u001B[0m\u001B[1;32m      7\u001B[0m \u001B[0;34m\u001B[0m\u001B[0m\n\u001B[1;32m      8\u001B[0m \u001B[0;31m#Now call your function with a string\u001B[0m\u001B[0;34m\u001B[0m\u001B[0;34m\u001B[0m\u001B[0;34m\u001B[0m\u001B[0m\n",
      "\u001B[0;31mIndexError\u001B[0m: string index out of range"
     ]
    }
   ],
   "source": [
    "print_characters('tin')"
   ]
  },
  {
   "cell_type": "markdown",
   "metadata": {},
   "source": [
    "Here's a better approach:"
   ]
  },
  {
   "cell_type": "code",
   "execution_count": 4,
   "metadata": {
    "cell_tags": []
   },
   "outputs": [
    {
     "name": "stdout",
     "output_type": "stream",
     "text": [
      "l\n",
      "e\n",
      "a\n",
      "d\n"
     ]
    }
   ],
   "source": [
    "def print_characters(element):\n",
    "    for char in element:\n",
    "        print( char )\n",
    "\n",
    "print_characters('lead')"
   ]
  },
  {
   "cell_type": "markdown",
   "metadata": {
    "cell_tags": []
   },
   "source": [
    "Rather than asking for each element by number, we are telling the computer: \"do something for *each* letter\".\n",
    "\n",
    "This is shorter---certainly shorter than something that prints every character in a hundred-letter string---and\n",
    "more robust as well:"
   ]
  },
  {
   "cell_type": "code",
   "execution_count": 5,
   "metadata": {
    "cell_tags": []
   },
   "outputs": [
    {
     "name": "stdout",
     "output_type": "stream",
     "text": [
      "o\n",
      "x\n",
      "y\n",
      "g\n",
      "e\n",
      "n\n"
     ]
    }
   ],
   "source": [
    "print_characters('oxygen')"
   ]
  },
  {
   "cell_type": "markdown",
   "metadata": {},
   "source": [
    "Try calling this with some different values, to check that it always works"
   ]
  },
  {
   "cell_type": "code",
   "execution_count": 6,
   "metadata": {},
   "outputs": [
    {
     "name": "stdout",
     "output_type": "stream",
     "text": [
      "1\n",
      "2\n",
      "3\n",
      "木\n",
      "头\n",
      "人\n",
      "h\n",
      "a\n"
     ]
    }
   ],
   "source": [
    "# Try a few values\n",
    "print_characters('123木头人ha')"
   ]
  },
  {
   "cell_type": "markdown",
   "metadata": {
    "cell_tags": []
   },
   "source": [
    "The improved version of `print_characters` uses a [for loop](./gloss.html#for-loop)\n",
    "to repeat an operation---in this case, printing---once for each thing in a collection.\n",
    "The general form of a loop is:\n",
    "\n",
    "<pre>\n",
    "<strong>for</strong> <em>variable</em> <strong>in</strong> <em>collection</em><strong>:</strong>\n",
    "    <em>do things with variable</em>\n",
    "</pre>"
   ]
  },
  {
   "cell_type": "markdown",
   "metadata": {
    "cell_tags": []
   },
   "source": [
    "Some things to note:\n",
    "- we can call the \"loop variable\" anything we like, so long as we use that name in the rest of the code. For example, these do the same thing:\n",
    "\n",
    "```\n",
    "for char in element:\n",
    "        print( char )\n",
    "        \n",
    "for letter in element:\n",
    "        print( letter )     \n",
    "```\n",
    "\n",
    "- there must be a colon at the end of the line starting the loop\n",
    "- we must indent the body of the loop, so that Python knows where the loop starts and ends\n",
    "\n",
    "Here's another loop that repeatedly updates a variable:"
   ]
  },
  {
   "cell_type": "code",
   "execution_count": 7,
   "metadata": {
    "cell_tags": []
   },
   "outputs": [
    {
     "name": "stdout",
     "output_type": "stream",
     "text": [
      "There are 5 vowels\n"
     ]
    }
   ],
   "source": [
    "length = 0\n",
    "for vowel in 'aeiou':\n",
    "    length = length + 1\n",
    "print( 'There are', length, 'vowels' )"
   ]
  },
  {
   "cell_type": "markdown",
   "metadata": {
    "cell_tags": []
   },
   "source": [
    "It's worth tracing the execution of this little program step by step.\n",
    "Since there are five characters in `'aeiou'`,\n",
    "the statement on line 3 will be executed five times.\n",
    "The first time around,\n",
    "`length` is zero (the value assigned to it on line 1)\n",
    "and `vowel` is `'a'`.\n",
    "The statement adds 1 to the old value of `length`,\n",
    "producing 1,\n",
    "and updates `length` to refer to that new value.\n",
    "The next time around,\n",
    "`vowel` is `'e'` and `length` is 1,\n",
    "so `length` is updated to be 2.\n",
    "After three more updates,\n",
    "`length` is 5;\n",
    "since there is nothing left in `'aeiou'` for Python to process,\n",
    "the loop finishes\n",
    "and the `print` statement on line 4 tells us our final answer.\n",
    "\n",
    "Note that a loop variable is just a variable that's being used to record progress in a loop.\n",
    "It still exists after the loop is over,\n",
    "and we can re-use variables previously defined as loop variables as well:"
   ]
  },
  {
   "cell_type": "code",
   "execution_count": 8,
   "metadata": {},
   "outputs": [
    {
     "name": "stdout",
     "output_type": "stream",
     "text": [
      "a\n",
      "b\n",
      "c\n",
      "after the loop, letter is c\n"
     ]
    }
   ],
   "source": [
    "letter = 'z'\n",
    "for letter in 'abc':\n",
    "    print( letter )\n",
    "print( 'after the loop, letter is', letter )"
   ]
  },
  {
   "cell_type": "markdown",
   "metadata": {
    "cell_tags": []
   },
   "source": [
    "Note also that finding the length of a string is such a common operation\n",
    "that Python actually has a built-in function to do it called `len`:"
   ]
  },
  {
   "cell_type": "code",
   "execution_count": 9,
   "metadata": {
    "cell_tags": []
   },
   "outputs": [
    {
     "name": "stdout",
     "output_type": "stream",
     "text": [
      "5\n"
     ]
    }
   ],
   "source": [
    "print( len('aeiou') )"
   ]
  },
  {
   "cell_type": "markdown",
   "metadata": {
    "cell_tags": []
   },
   "source": [
    "`len` is much faster than any function we could write ourselves,\n",
    "and much easier to read than a two-line loop;\n",
    "it will also give us the length of many other things that we haven't met yet,\n",
    "so we should always use it when we can."
   ]
  },
  {
   "cell_type": "markdown",
   "metadata": {
    "cell_tags": [
     "challenges"
    ]
   },
   "source": [
    "#### Challenges\n",
    "\n",
    "1.  Python has a built-in function called `range` that creates a list of numbers:\n",
    "    `range(3)` produces `[0, 1, 2]`, `range(2, 5)` produces `[2, 3, 4]`, and `range(2, 10, 3)` produces `[2, 5, 8]`.\n",
    "    Using `range`,\n",
    "    write a function called print_N that prints the first $N$ natural numbers, starting at 1:\n",
    "    \n",
    "    ~~~python\n",
    "    print_N(3)\n",
    "    1\n",
    "    2\n",
    "    3\n",
    "    ~~~"
   ]
  },
  {
   "cell_type": "code",
   "execution_count": 1,
   "metadata": {},
   "outputs": [
    {
     "name": "stdout",
     "output_type": "stream",
     "text": [
      "1\n",
      "2\n",
      "3\n",
      "1\n",
      "2\n",
      "3\n",
      "4\n",
      "5\n",
      "6\n",
      "7\n",
      "8\n",
      "9\n",
      "10\n"
     ]
    }
   ],
   "source": [
    "def print_N(value):\n",
    "    for _val in range(value):\n",
    "        print(_val+1)\n",
    "\n",
    "print_N(3)\n",
    "print_N(10)"
   ]
  },
  {
   "cell_type": "markdown",
   "metadata": {
    "cell_tags": []
   },
   "source": [
    "### Lists"
   ]
  },
  {
   "cell_type": "markdown",
   "metadata": {
    "cell_tags": []
   },
   "source": [
    "Just as a `for` loop is a way to do operations many times,\n",
    "a list is a way to store many values.\n",
    "Arrays are built into the language.\n",
    "We create a list by putting values inside square brackets:"
   ]
  },
  {
   "cell_type": "code",
   "execution_count": 2,
   "metadata": {
    "cell_tags": []
   },
   "outputs": [
    {
     "name": "stdout",
     "output_type": "stream",
     "text": [
      "odds are: [1, 3, 5, 7]\n"
     ]
    }
   ],
   "source": [
    "# Make a list of some odd numbers\n",
    "odds = [1, 3, 5, 7]\n",
    "print( 'odds are:', odds )"
   ]
  },
  {
   "cell_type": "markdown",
   "metadata": {
    "cell_tags": []
   },
   "source": [
    "We select individual elements from lists by indexing them:"
   ]
  },
  {
   "cell_type": "code",
   "execution_count": 3,
   "metadata": {
    "cell_tags": []
   },
   "outputs": [
    {
     "name": "stdout",
     "output_type": "stream",
     "text": [
      "first and last: 1 7\n"
     ]
    }
   ],
   "source": [
    "print( 'first and last:', odds[0], odds[-1] )"
   ]
  },
  {
   "cell_type": "markdown",
   "metadata": {
    "cell_tags": []
   },
   "source": [
    "and if we loop over a list,\n",
    "the loop variable is assigned elements one at a time:"
   ]
  },
  {
   "cell_type": "code",
   "execution_count": 4,
   "metadata": {
    "cell_tags": []
   },
   "outputs": [
    {
     "name": "stdout",
     "output_type": "stream",
     "text": [
      "1\n",
      "3\n",
      "5\n",
      "7\n"
     ]
    }
   ],
   "source": [
    "for number in odds:\n",
    "    print( number )"
   ]
  },
  {
   "cell_type": "markdown",
   "metadata": {
    "cell_tags": []
   },
   "source": [
    "There is one important difference between lists and strings:\n",
    "we can change the values in a list,\n",
    "but we cannot change the characters in a string.\n",
    "For example:"
   ]
  },
  {
   "cell_type": "code",
   "execution_count": 5,
   "metadata": {
    "cell_tags": []
   },
   "outputs": [
    {
     "name": "stdout",
     "output_type": "stream",
     "text": [
      "names is originally: ['Newton', 'Darwing', 'Turing']\n",
      "final value of names: ['Newton', 'Darwin', 'Turing']\n"
     ]
    }
   ],
   "source": [
    "names = ['Newton', 'Darwing', 'Turing'] # typo in Darwin's name\n",
    "print( 'names is originally:', names )\n",
    "names[1] = 'Darwin' # correct the name\n",
    "print( 'final value of names:', names )"
   ]
  },
  {
   "cell_type": "markdown",
   "metadata": {
    "cell_tags": []
   },
   "source": [
    "works, but:"
   ]
  },
  {
   "cell_type": "code",
   "execution_count": 6,
   "metadata": {
    "cell_tags": []
   },
   "outputs": [
    {
     "ename": "TypeError",
     "evalue": "'str' object does not support item assignment",
     "output_type": "error",
     "traceback": [
      "\u001B[0;31m---------------------------------------------------------------------------\u001B[0m",
      "\u001B[0;31mTypeError\u001B[0m                                 Traceback (most recent call last)",
      "\u001B[0;32m<ipython-input-6-09de2474cf2d>\u001B[0m in \u001B[0;36m<module>\u001B[0;34m\u001B[0m\n\u001B[1;32m      1\u001B[0m \u001B[0mname\u001B[0m \u001B[0;34m=\u001B[0m \u001B[0;34m'Bell'\u001B[0m\u001B[0;34m\u001B[0m\u001B[0;34m\u001B[0m\u001B[0m\n\u001B[0;32m----> 2\u001B[0;31m \u001B[0mname\u001B[0m\u001B[0;34m[\u001B[0m\u001B[0;36m0\u001B[0m\u001B[0;34m]\u001B[0m \u001B[0;34m=\u001B[0m \u001B[0;34m'b'\u001B[0m\u001B[0;34m\u001B[0m\u001B[0;34m\u001B[0m\u001B[0m\n\u001B[0m\u001B[1;32m      3\u001B[0m \u001B[0;34m\u001B[0m\u001B[0m\n",
      "\u001B[0;31mTypeError\u001B[0m: 'str' object does not support item assignment"
     ]
    }
   ],
   "source": [
    "name = 'Bell'\n",
    "name[0] = 'b'"
   ]
  },
  {
   "cell_type": "markdown",
   "metadata": {
    "cell_tags": []
   },
   "source": [
    "does not.\n",
    "\n",
    "> #### Ch-Ch-Ch-Changes\n",
    ">\n",
    "> Data that can be changed is called [mutable](./gloss.html#mutable),\n",
    "> while data that cannot be is called [immutable](./gloss.html#immutable).\n",
    "> Like strings,\n",
    "> numbers are immutable:\n",
    "> there's no way to make the number 0 have the value 1 or vice versa\n",
    "> (at least, not in Python&mdash;there actually *are* languages that will let people do this,\n",
    "> with predictably confusing results).\n",
    "> Lists and arrays,\n",
    "> on the other hand,\n",
    "> are mutable:\n",
    "> both can be modified after they have been created.\n",
    ">\n",
    "> Programs that modify data in place can be harder to understand than ones that don't\n",
    "> because readers may have to mentally sum up many lines of code\n",
    "> in order to figure out what the value of something actually is.\n",
    "> On the other hand,\n",
    "> programs that modify data in place instead of creating copies that are almost identical to the original\n",
    "> every time they want to make a small change\n",
    "> are much more efficient.\n",
    "\n",
    "There are many ways to change the contents of in lists besides assigning to elements:"
   ]
  },
  {
   "cell_type": "code",
   "execution_count": 7,
   "metadata": {
    "cell_tags": []
   },
   "outputs": [
    {
     "name": "stdout",
     "output_type": "stream",
     "text": [
      "odds after adding a value: [1, 3, 5, 7, 11]\n"
     ]
    }
   ],
   "source": [
    "odds.append(11)\n",
    "print( 'odds after adding a value:', odds )"
   ]
  },
  {
   "cell_type": "code",
   "execution_count": 8,
   "metadata": {
    "cell_tags": []
   },
   "outputs": [
    {
     "name": "stdout",
     "output_type": "stream",
     "text": [
      "odds after removing the first element: [3, 5, 7, 11]\n"
     ]
    }
   ],
   "source": [
    "del odds[0]\n",
    "print( 'odds after removing the first element:', odds )"
   ]
  },
  {
   "cell_type": "code",
   "execution_count": 9,
   "metadata": {
    "cell_tags": []
   },
   "outputs": [
    {
     "name": "stdout",
     "output_type": "stream",
     "text": [
      "odds after reversing: [11, 7, 5, 3]\n"
     ]
    }
   ],
   "source": [
    "odds.reverse()\n",
    "print( 'odds after reversing:', odds )"
   ]
  },
  {
   "cell_type": "code",
   "execution_count": 9,
   "metadata": {},
   "outputs": [],
   "source": []
  },
  {
   "cell_type": "markdown",
   "metadata": {
    "cell_tags": [
     "challenges"
    ]
   },
   "source": [
    "#### Challenges\n",
    "\n",
    "1.  Write a function called `total` that calculates the sum of the values in a list.\n",
    "    (Python has a built-in function called `sum` that does this for you.\n",
    "    Please don't use it for this exercise.)"
   ]
  },
  {
   "cell_type": "code",
   "execution_count": 11,
   "metadata": {},
   "outputs": [
    {
     "name": "stdout",
     "output_type": "stream",
     "text": [
      "16\n",
      "19900\n",
      "16\n"
     ]
    }
   ],
   "source": [
    "def total(input):\n",
    "    current_total = 0\n",
    "    for val in input:\n",
    "        current_total += val\n",
    "    return current_total\n",
    "\n",
    "print(total([3,5,8]))  # Should print 16\n",
    "print(total(range(1,200))) \n",
    "print(sum([3,5,8]))"
   ]
  },
  {
   "cell_type": "markdown",
   "metadata": {
    "cell_tags": []
   },
   "source": [
    "### Nesting"
   ]
  },
  {
   "cell_type": "markdown",
   "metadata": {
    "cell_tags": []
   },
   "source": [
    "Another thing to realize is that `if` statements can be combined with loops\n",
    "just as easily as they can be combined with functions.\n",
    "For example,\n",
    "if we want to sum the positive numbers in a list,\n",
    "we can write this:"
   ]
  },
  {
   "cell_type": "code",
   "execution_count": 12,
   "metadata": {
    "cell_tags": []
   },
   "outputs": [
    {
     "name": "stdout",
     "output_type": "stream",
     "text": [
      "sum of positive values: 20\n"
     ]
    }
   ],
   "source": [
    "numbers = [-5, 3, 2, -1, 9, 6]\n",
    "total = 0\n",
    "for n in numbers:\n",
    "    if n >= 0:\n",
    "        total = total + n\n",
    "print('sum of positive values:', total)"
   ]
  },
  {
   "cell_type": "markdown",
   "metadata": {
    "cell_tags": []
   },
   "source": [
    "We could equally well calculate the positive and negative sums in a single loop:"
   ]
  },
  {
   "cell_type": "code",
   "execution_count": 13,
   "metadata": {
    "cell_tags": []
   },
   "outputs": [
    {
     "name": "stdout",
     "output_type": "stream",
     "text": [
      "negative and positive sums are: -6 20\n"
     ]
    }
   ],
   "source": [
    "pos_total = 0\n",
    "neg_total = 0\n",
    "for n in numbers:\n",
    "    if n >= 0:\n",
    "        pos_total = pos_total + n\n",
    "    else:\n",
    "        neg_total = neg_total + n\n",
    "print('negative and positive sums are:', neg_total, pos_total)"
   ]
  },
  {
   "cell_type": "markdown",
   "metadata": {
    "cell_tags": []
   },
   "source": [
    "We can even put one loop inside another:"
   ]
  },
  {
   "cell_type": "code",
   "execution_count": 14,
   "metadata": {
    "cell_tags": []
   },
   "outputs": [
    {
     "name": "stdout",
     "output_type": "stream",
     "text": [
      "ba\n",
      "be\n",
      "ca\n",
      "ce\n",
      "da\n",
      "de\n"
     ]
    }
   ],
   "source": [
    "for consonant in 'bcd':\n",
    "    for vowel in 'ae':\n",
    "        print(consonant + vowel)"
   ]
  },
  {
   "cell_type": "markdown",
   "metadata": {
    "cell_tags": []
   },
   "source": [
    "As the diagram below shows,\n",
    "the [inner loop](./gloss.html#inner-loop) runs from start to finish\n",
    "each time the [outer loop](./gloss.html#outer-loop) runs once:"
   ]
  },
  {
   "cell_type": "markdown",
   "metadata": {
    "cell_tags": []
   },
   "source": [
    "<img src=\"img/python-flowchart-nested-loops.svg\" alt=\"Execution of Nested Loops\" />"
   ]
  },
  {
   "cell_type": "markdown",
   "metadata": {
    "cell_tags": [
     "challenges"
    ]
   },
   "source": [
    "#### Challenges\n",
    "\n",
    "1.  Will changing the nesting of the loops in the code above&mdash;i.e.,\n",
    "    iterating over the vowels first and then the consonants change the output?\n",
    "    Why or why not? Demonstrate it!\n",
    "\n",
    "2.  Python (and most other languages in the C family) provides [in-place operators](./gloss.html#in-place-operator)\n",
    "    that work like this:\n",
    "    \n",
    "    ~~~python\n",
    "    x = 1  # original value\n",
    "    x += 1 # add one to x, assigning result back to x\n",
    "    x *= 3 # multiply x by 3\n",
    "    print x\n",
    "    6\n",
    "    ~~~\n",
    "    \n",
    "    Rewrite the code that sums the positive and negative numbers in a list\n",
    "    using in-place operators.\n",
    "    Do you think the result is more or less readable than the original?"
   ]
  },
  {
   "cell_type": "code",
   "execution_count": 15,
   "outputs": [
    {
     "name": "stdout",
     "output_type": "stream",
     "text": [
      "negative and positive sums are: -6 20\n"
     ]
    }
   ],
   "source": [
    "pos_total = 0\n",
    "neg_total = 0\n",
    "for n in numbers:\n",
    "    if n >= 0:\n",
    "        pos_total += n\n",
    "    else:\n",
    "        neg_total += n\n",
    "print('negative and positive sums are:', neg_total, pos_total)"
   ],
   "metadata": {
    "collapsed": false,
    "pycharm": {
     "name": "#%%\n"
    }
   }
  },
  {
   "cell_type": "markdown",
   "metadata": {
    "cell_tags": []
   },
   "source": [
    "### Processing Multiple Files"
   ]
  },
  {
   "cell_type": "markdown",
   "metadata": {
    "cell_tags": []
   },
   "source": [
    "We now have a lot of tools for looping over many things. The last thing we are going to loop over is files - this is very useful for data analysis - you often have hundreds of files to deal with.\n",
    "\n",
    "To work with files, we use a library called `glob`:"
   ]
  },
  {
   "cell_type": "code",
   "execution_count": 16,
   "metadata": {
    "cell_tags": []
   },
   "outputs": [],
   "source": [
    "import glob"
   ]
  },
  {
   "cell_type": "markdown",
   "metadata": {
    "cell_tags": []
   },
   "source": [
    "The `glob` library contains a single function, also called `glob`,\n",
    "that finds files whose names match a pattern.\n",
    "We provide those patterns as strings:\n",
    "the character `*` matches zero or more characters,\n",
    "while `?` matches any one character.\n",
    "We can use this to get the names of all the IPython Notebooks we have created so far:"
   ]
  },
  {
   "cell_type": "code",
   "execution_count": 17,
   "metadata": {
    "cell_tags": []
   },
   "outputs": [
    {
     "name": "stdout",
     "output_type": "stream",
     "text": [
      "['Loops and Conditions.ipynb']\n"
     ]
    }
   ],
   "source": [
    "print( glob.glob('*.ipynb') )"
   ]
  },
  {
   "cell_type": "markdown",
   "metadata": {
    "cell_tags": []
   },
   "source": [
    "or to get the names of all our CSV data files:"
   ]
  },
  {
   "cell_type": "code",
   "execution_count": 18,
   "metadata": {
    "cell_tags": []
   },
   "outputs": [
    {
     "name": "stdout",
     "output_type": "stream",
     "text": [
      "['a.csv', 'b.csv', 'd.csv']\n"
     ]
    }
   ],
   "source": [
    "print( glob.glob('*.csv') )"
   ]
  },
  {
   "cell_type": "markdown",
   "metadata": {
    "cell_tags": []
   },
   "source": [
    "As these examples show,\n",
    "`glob.glob`'s result is a list of strings,\n",
    "which means we can loop over it\n",
    "to do something with each filename in turn.\n",
    "\n",
    "To start with, write a `for` loop that prints the name of each file on its own line:"
   ]
  },
  {
   "cell_type": "code",
   "execution_count": 28,
   "metadata": {},
   "outputs": [
    {
     "name": "stdout",
     "output_type": "stream",
     "text": [
      "a.csv\n",
      "b.csv\n",
      "d.csv\n"
     ]
    }
   ],
   "source": [
    "for file_name in glob.glob('*.csv'):\n",
    "    print(file_name)"
   ]
  },
  {
   "cell_type": "markdown",
   "metadata": {},
   "source": [
    "Now, write a for loop that opens each file, and prints each line in it. Remember from last weak that you can use:\n",
    "```\n",
    "with open('myfile.csv', 'r') as csvfile:\n",
    "```\n",
    "to open the file, and then\n",
    "`for line in file:` to iterate over each line"
   ]
  },
  {
   "cell_type": "code",
   "execution_count": 29,
   "metadata": {
    "cell_tags": []
   },
   "outputs": [
    {
     "name": "stdout",
     "output_type": "stream",
     "text": [
      "4,5,6\n",
      "\n",
      "3,5,6\n",
      "\n",
      "3,5,6\n",
      "\n",
      "2,9,1\n",
      "\n"
     ]
    }
   ],
   "source": [
    "for file_name in glob.glob('*.csv'):\n",
    "    with open(file_name, 'r') as csvfile:\n",
    "        for line in csvfile:\n",
    "            print(line)"
   ]
  },
  {
   "cell_type": "markdown",
   "metadata": {
    "cell_tags": []
   },
   "source": [
    "Now, update this to add up all the values in each file. You have two choices (both from last week):\n",
    "* open each file using the csv file reader. Then convert each cell in each row to an int, and add them together.\n",
    "* open each file using the read_csv function in Pandas, and get the sum of each row\n",
    "You should print the sum of each row, the sum of each file, and the total sum. Your output should be something like:\n",
    "```\n",
    "Opening file: a.csv\n",
    "Row total: 15\n",
    "Total in file a.csv is 15\n",
    "Opening file: b.csv\n",
    "Row total: 14\n",
    "Total in file b.csv is 14\n",
    "Opening file: d.csv\n",
    "Row total: 14\n",
    "Row total: 12\n",
    "Total in file d.csv is 26\n",
    "Overall total is 55\n",
    "```"
   ]
  },
  {
   "cell_type": "code",
   "execution_count": 54,
   "metadata": {},
   "outputs": [
    {
     "name": "stdout",
     "output_type": "stream",
     "text": [
      "Row total: 15\n",
      "Total in file d.csv is 15\n",
      "Row total: 14\n",
      "Total in file d.csv is 14\n",
      "Row total: 14\n",
      "Row total: 12\n",
      "Total in file d.csv is 26\n",
      "Overall total is 55\n"
     ]
    }
   ],
   "source": [
    "overall_total = 0\n",
    "for file_name in glob.glob('*.csv'):\n",
    "    with open(file_name, 'r') as csvfile:\n",
    "        file_total = 0\n",
    "        for line in csvfile:\n",
    "            row_total = 0\n",
    "            val_list = line.strip().split(',')\n",
    "            for val in val_list:\n",
    "                row_total += int(val)\n",
    "            print(\"Row total:\", row_total)\n",
    "            file_total += row_total\n",
    "        else:\n",
    "            overall_total += file_total\n",
    "            print(\"Total in file d.csv is\",file_total)\n",
    "\n",
    "print(\"Overall total is\", overall_total)"
   ]
  },
  {
   "cell_type": "markdown",
   "metadata": {
    "cell_tags": [
     "challenges"
    ]
   },
   "source": [
    "Finally, convert some of the code inside your loop into a function, that takes a filename and returns the total count of that file. Rewrite your loop to use that function, and check that you still get the same total"
   ]
  },
  {
   "cell_type": "code",
   "execution_count": 56,
   "metadata": {},
   "outputs": [
    {
     "name": "stdout",
     "output_type": "stream",
     "text": [
      "Overall total is 55\n"
     ]
    }
   ],
   "source": [
    "def file_count(filename):\n",
    "    total = 0\n",
    "    with open(filename) as csvfile:\n",
    "        for line in csvfile:\n",
    "            val_list = line.strip().split(',')\n",
    "            for val in val_list:\n",
    "                total += int(val)\n",
    "    return total\n",
    "\n",
    "overallTotal = 0\n",
    "for file in glob.glob('*.csv'):\n",
    "    overallTotal = overallTotal + file_count(file)\n",
    "print('Overall total is', overallTotal)   "
   ]
  },
  {
   "cell_type": "markdown",
   "metadata": {
    "cell_tags": []
   },
   "source": [
    "#### Key Points\n",
    "\n",
    "*   Use `for variable in collection` to process the elements of a collection one at a time.\n",
    "*   The body of a for loop must be indented.\n",
    "*   Use `len(thing)` to determine the length of something that contains other values.\n",
    "*   `[value1, value2, value3, ...]` creates a list.\n",
    "*   Lists are indexed and sliced in the same way as strings and arrays.\n",
    "*   Lists are mutable (i.e., their values can be changed in place).\n",
    "*   Strings are immutable (i.e., the characters in them cannot be changed).\n",
    "*   Use `glob.glob(pattern)` to create a list of files whose names match a pattern.\n",
    "*   Use `*` in a pattern to match zero or more characters, and `?` to match any single character."
   ]
  },
  {
   "cell_type": "markdown",
   "metadata": {
    "cell_tags": []
   },
   "source": [
    "#### Next Steps\n",
    "\n",
    "We can now analyze any number of data files with a single command.\n",
    "More importantly,\n",
    "we have met two of the most important ideas in programming:\n",
    "\n",
    "1.  Use functions to make code easier to re-use and easier to understand.\n",
    "1.  Use lists and arrays to store related values, and loops to repeat operations on them.\n"
   ]
  },
  {
   "cell_type": "markdown",
   "metadata": {
    "cell_tags": []
   },
   "source": [
    "## Making Choices"
   ]
  },
  {
   "cell_type": "markdown",
   "metadata": {
    "cell_tags": []
   },
   "source": [
    "Our previous lessons have shown us how to manipulate data,\n",
    "define our own functions,\n",
    "and repeat things.\n",
    "However,\n",
    "the programs we have written so far always do the same things,\n",
    "regardless of what data they're given.\n",
    "We want programs to make choices based on the values they are manipulating.\n",
    "To help us see what decisions they're making,\n",
    "we'll start by looking at how computers manipulate images."
   ]
  },
  {
   "cell_type": "markdown",
   "metadata": {
    "cell_tags": [
     "objectives"
    ]
   },
   "source": [
    "#### Objectives\n",
    "\n",
    "*   Create a simple \"image\" made out of colored blocks.\n",
    "*   Explain how the RGB model represents colors.\n",
    "*   Explain the similarities and differences between tuples and lists.\n",
    "*   Write conditional statements including `if`, `elif`, and `else` branches.\n",
    "*   Correctly evaluate expressions containing `and` and `or`.\n",
    "*   Correctly write and interpret code containing nested loops and conditionals.\n",
    "*   Explain the advantages of putting frequently-modified code in a function."
   ]
  },
  {
   "cell_type": "markdown",
   "metadata": {
    "cell_tags": []
   },
   "source": [
    "### Conditionals"
   ]
  },
  {
   "cell_type": "markdown",
   "metadata": {
    "cell_tags": []
   },
   "source": [
    "The other thing we need in order to create a heat map of our own\n",
    "is a way to pick a color based on a data value.\n",
    "The tool Python gives us for doing this is called a [conditional statement](./gloss.html#conditional-statement),\n",
    "and looks like this:"
   ]
  },
  {
   "cell_type": "code",
   "execution_count": 57,
   "metadata": {
    "cell_tags": []
   },
   "outputs": [
    {
     "name": "stdout",
     "output_type": "stream",
     "text": [
      "not greater\n",
      "done\n"
     ]
    }
   ],
   "source": [
    "num = 37\n",
    "if num > 100:\n",
    "    print('greater')\n",
    "else:\n",
    "    print('not greater')\n",
    "print('done')"
   ]
  },
  {
   "cell_type": "markdown",
   "metadata": {
    "cell_tags": []
   },
   "source": [
    "The second line of this code uses the keyword `if` to tell Python that we want to make a choice.\n",
    "If the test that follows it is true,\n",
    "the body of the `if`\n",
    "(i.e., the lines indented underneath it) are executed.\n",
    "If the test is false,\n",
    "the body of the `else` is executed instead.\n",
    "Only one or the other is ever executed:"
   ]
  },
  {
   "cell_type": "markdown",
   "metadata": {
    "cell_tags": []
   },
   "source": [
    "<img src=\"img/python-flowchart-conditional.svg\" alt=\"Executing a Conditional\" />"
   ]
  },
  {
   "cell_type": "markdown",
   "metadata": {
    "cell_tags": []
   },
   "source": [
    "Conditional statements don't have to include an `else`.\n",
    "If there isn't one,\n",
    "Python simply does nothing if the test is false:"
   ]
  },
  {
   "cell_type": "code",
   "execution_count": 58,
   "metadata": {
    "cell_tags": []
   },
   "outputs": [
    {
     "name": "stdout",
     "output_type": "stream",
     "text": [
      "before conditional...\n",
      "...after conditional\n"
     ]
    }
   ],
   "source": [
    "num = 53\n",
    "print('before conditional...')\n",
    "if num > 100:\n",
    "    print('53 is greater than 100')\n",
    "print('...after conditional')"
   ]
  },
  {
   "cell_type": "markdown",
   "metadata": {
    "cell_tags": []
   },
   "source": [
    "We can also chain several tests together using `elif`,\n",
    "which is short for \"else if\".\n",
    "This makes it simple to write a function that returns the sign of a number:"
   ]
  },
  {
   "cell_type": "code",
   "execution_count": 60,
   "metadata": {
    "cell_tags": []
   },
   "outputs": [
    {
     "name": "stdout",
     "output_type": "stream",
     "text": [
      "sign of -3: -1\n",
      "sign of 3: 1\n"
     ]
    }
   ],
   "source": [
    "def sign(num):\n",
    "    if num > 0:\n",
    "        return 1\n",
    "    elif num == 0:\n",
    "        return 0\n",
    "    else:\n",
    "        return -1\n",
    "\n",
    "print('sign of -3:', sign(-3))\n",
    "print('sign of 3:', sign(3))"
   ]
  },
  {
   "cell_type": "markdown",
   "metadata": {
    "cell_tags": []
   },
   "source": [
    "One important thing to notice the code above is that we use a double equals sign `==` to test for equality\n",
    "rather than a single equals sign\n",
    "because the latter is used to mean assignment.\n",
    "This convention was inherited from C,\n",
    "and while many other programming languages work the same way,\n",
    "it does take a bit of getting used to...\n",
    "\n",
    "We can also combine tests using `and` and `or`.\n",
    "`and` is only true if both parts are true:"
   ]
  },
  {
   "cell_type": "code",
   "execution_count": 61,
   "metadata": {
    "cell_tags": []
   },
   "outputs": [
    {
     "name": "stdout",
     "output_type": "stream",
     "text": [
      "one part is not true\n"
     ]
    }
   ],
   "source": [
    "if (1 > 0) and (-1 > 0):\n",
    "    print('both parts are true')\n",
    "else:\n",
    "    print('one part is not true')"
   ]
  },
  {
   "cell_type": "markdown",
   "metadata": {
    "cell_tags": []
   },
   "source": [
    "while `or` is true if either part is true:"
   ]
  },
  {
   "cell_type": "code",
   "execution_count": 62,
   "metadata": {
    "cell_tags": []
   },
   "outputs": [
    {
     "name": "stdout",
     "output_type": "stream",
     "text": [
      "at least one test is true\n"
     ]
    }
   ],
   "source": [
    "if (1 < 0) or ('left' < 'right'):\n",
    "    print('at least one test is true')"
   ]
  },
  {
   "cell_type": "markdown",
   "metadata": {
    "cell_tags": []
   },
   "source": [
    "In this case,\n",
    "\"either\" means \"either or both\", not \"either one or the other but not both\"."
   ]
  },
  {
   "cell_type": "markdown",
   "metadata": {
    "cell_tags": [
     "challenges"
    ]
   },
   "source": [
    "#### Challenges\n",
    "\n",
    "1.  `True` and `False` aren't the only values in Python that are true and false.\n",
    "    In fact, *any* value can be used in an `if` or `elif`.\n",
    "    After reading and running the code below,\n",
    "    explain what the rule is for which values are considered true and which are considered false.\n",
    "    (Note that if the body of a conditional is a single statement, we can write it on the same line as the `if`.)\n",
    "    \n",
    "    ~~~python\n",
    "    if '': print 'empty string is true'\n",
    "    if 'word': print 'word is true'\n",
    "    if []: print 'empty list is true'\n",
    "    if [1, 2, 3]: print 'non-empty list is true'\n",
    "    if 0: print 'zero is true'\n",
    "    if 1: print 'one is true'\n",
    "    ~~~\n",
    "\n",
    "2.  Write a function called `near` that expects two floating point numbers, and returns `True` if its first parameter is within 10% of its second\n",
    "    and `False` otherwise.\n",
    "    Compare your implementation with your partner's:\n",
    "    do you return the same answer for all possible pairs of numbers?"
   ]
  },
  {
   "cell_type": "code",
   "execution_count": 65,
   "outputs": [
    {
     "name": "stdout",
     "output_type": "stream",
     "text": [
      "word is true\n",
      "non-empty list is true\n",
      "one is true\n"
     ]
    }
   ],
   "source": [
    "if '': print('empty string is true')\n",
    "if'word': print('word is true')\n",
    "if []: print('empty list is true')\n",
    "if [1, 2, 3]: print('non-empty list is true')\n",
    "if 0: print('zero is true')\n",
    "if 1: print('one is true')"
   ],
   "metadata": {
    "collapsed": false,
    "pycharm": {
     "name": "#%%\n"
    }
   }
  },
  {
   "cell_type": "code",
   "execution_count": 66,
   "metadata": {},
   "outputs": [
    {
     "name": "stdout",
     "output_type": "stream",
     "text": [
      "True\n",
      "False\n",
      "False\n",
      "True\n"
     ]
    }
   ],
   "source": [
    "def near(a,b):\n",
    "    upper = b+b*0.1\n",
    "    down = b-b*0.1\n",
    "    if a < down:\n",
    "        return False\n",
    "    elif a > upper:\n",
    "        return False\n",
    "    else:\n",
    "        return True\n",
    "    \n",
    "print(near(1.1,1.2))\n",
    "print(near(1.0,0.9))\n",
    "print(near(100,90))\n",
    "print(near(100,91))"
   ]
  },
  {
   "cell_type": "markdown",
   "metadata": {
    "cell_tags": [
     "keypoints"
    ]
   },
   "source": [
    "#### Key Points\n",
    "\n",
    "*   Use `if condition` to start a conditional statement, `elif condition` to provide additional tests, and `else` to provide a default.\n",
    "*   The bodies of the branches of conditional statements must be indented.\n",
    "*   Use `==` to test for equality.\n",
    "*   `X and Y` is only true if both X and Y are true.\n",
    "*   `X or Y` is true if either X or Y, or both, are true.\n",
    "*   Zero, the empty string, and the empty list are considered false; all other numbers, strings, and lists are considered true.\n",
    "*   Nest loops to operate on multi-dimensional data.\n",
    "*   Put code whose parameters change frequently in a function, then call it with different parameter values to customize its behavior."
   ]
  },
  {
   "cell_type": "code",
   "execution_count": null,
   "metadata": {},
   "outputs": [],
   "source": []
  }
 ],
 "metadata": {
  "anaconda-cloud": {},
  "kernelspec": {
   "display_name": "Python 3",
   "language": "python",
   "name": "python3"
  },
  "language_info": {
   "codemirror_mode": {
    "name": "ipython",
    "version": 3
   },
   "file_extension": ".py",
   "mimetype": "text/x-python",
   "name": "python",
   "nbconvert_exporter": "python",
   "pygments_lexer": "ipython3",
   "version": "3.7.7"
  }
 },
 "nbformat": 4,
 "nbformat_minor": 1
}